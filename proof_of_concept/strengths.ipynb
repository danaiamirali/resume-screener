{
 "cells": [
  {
   "cell_type": "code",
   "execution_count": 1,
   "metadata": {},
   "outputs": [],
   "source": [
    "from langchain.chat_models import ChatOpenAI\n",
    "from langchain.schema import StrOutputParser\n",
    "from langchain.document_loaders import UnstructuredPDFLoader\n",
    "from langchain.schema.runnable import RunnablePassthrough\n",
    "from langchain.embeddings import OpenAIEmbeddings\n",
    "from langchain.vectorstores import Chroma"
   ]
  },
  {
   "cell_type": "code",
   "execution_count": 2,
   "metadata": {},
   "outputs": [
    {
     "data": {
      "text/plain": [
       "True"
      ]
     },
     "execution_count": 2,
     "metadata": {},
     "output_type": "execute_result"
    }
   ],
   "source": [
    "from dotenv import load_dotenv\n",
    "import os\n",
    "\n",
    "load_dotenv()\n",
    "\n",
    "# API_KEY = os.getenv(\"OPENAI_API_KEY\")"
   ]
  },
  {
   "cell_type": "code",
   "execution_count": 3,
   "metadata": {},
   "outputs": [
    {
     "name": "stderr",
     "output_type": "stream",
     "text": [
      "C:\\Users\\amira\\AppData\\Local\\Packages\\PythonSoftwareFoundation.Python.3.11_qbz5n2kfra8p0\\LocalCache\\local-packages\\Python311\\site-packages\\tqdm\\auto.py:21: TqdmWarning: IProgress not found. Please update jupyter and ipywidgets. See https://ipywidgets.readthedocs.io/en/stable/user_install.html\n",
      "  from .autonotebook import tqdm as notebook_tqdm\n"
     ]
    }
   ],
   "source": [
    "loader = UnstructuredPDFLoader(\"../static/resume.pdf\")\n",
    "\n",
    "data = loader.load()"
   ]
  },
  {
   "cell_type": "code",
   "execution_count": 4,
   "metadata": {},
   "outputs": [],
   "source": [
    "from langchain.text_splitter import RecursiveCharacterTextSplitter"
   ]
  },
  {
   "cell_type": "code",
   "execution_count": 5,
   "metadata": {},
   "outputs": [],
   "source": [
    "text_splitter = RecursiveCharacterTextSplitter(chunk_size=500, chunk_overlap=100)\n",
    "splits = text_splitter.split_documents(data)"
   ]
  },
  {
   "cell_type": "code",
   "execution_count": 6,
   "metadata": {},
   "outputs": [],
   "source": [
    "embedding = OpenAIEmbeddings(model='text-embedding-ada-002')"
   ]
  },
  {
   "cell_type": "code",
   "execution_count": 7,
   "metadata": {},
   "outputs": [],
   "source": [
    "vectorstore = Chroma.from_documents(documents=splits, embedding=embedding)\n",
    "retriever = vectorstore.as_retriever()"
   ]
  },
  {
   "cell_type": "code",
   "execution_count": 8,
   "metadata": {},
   "outputs": [],
   "source": [
    "job_description = \"\"\"\n",
    "Below are the skills needed for this project. Students with the following relevant skills and interest, regardless of major, are encouraged to apply! This is a team based multidisciplinary project. Students on the team are not expected to have experience in all areas, but should be willing to learn and will be asked to perform a breadth of tasks throughout the two semester project.\n",
    "Advanced Data Science and Modeling Techniques\n",
    "Specific Skills: Applied project experience with Large Language Models and other applied AI techniques OR advanced coursework\n",
    "\n",
    "Likely Majors: DATA, STATS, MATH, CS\n",
    "\n",
    "\n",
    "Data Science\n",
    "Specific Skills: General skills in Data Science, good software development skills, and a willingness to quickly develop new technical skills as required for the project\n",
    "\n",
    "EECS 281(or equivalent) is required\n",
    "\n",
    "Likely Majors: DATA, CS\n",
    "\n",
    "\n",
    "General Coding\n",
    "Specific Skills: General Programming skills, good software engineering practice and design, and a willingness to quickly develop new technical skills as required for the project \n",
    "\n",
    "EECS 281 (or equivalent) is required\n",
    "\n",
    "Likely Majors: CS, DATA, BBA/CS\n",
    "\n",
    "\n",
    "\n",
    "Additional Desired Skills/Knowledge/Experience\n",
    "Successful team-based project experience.  Excellent interpersonal skills\n",
    "Project Management utilizing Agile/Scrum\n",
    "Experience in business process analysis\n",
    "Interest in and general knowledge of Commercial Banking\n",
    "Practical experience implementing predictive analytics in a complex data environment\n",
    "Ability and desire to independently learn new technology skills as necessary for the project\n",
    "Experience implementing large language models, neural networks and self-supervised / semi-supervised learning models\n",
    "\"\"\""
   ]
  },
  {
   "cell_type": "code",
   "execution_count": 21,
   "metadata": {},
   "outputs": [],
   "source": [
    "from langchain.prompts import ChatPromptTemplate\n",
    "import PyPDF2"
   ]
  },
  {
   "cell_type": "code",
   "execution_count": 24,
   "metadata": {},
   "outputs": [],
   "source": [
    "class ResumeParser:\n",
    "    def __init__(self, path: str):\n",
    "        print (\"parsing resume...\")\n",
    "        with open(path, 'rb') as file:\n",
    "            reader = PyPDF2.PdfReader(file)\n",
    "            text = \"\"\n",
    "            for page in reader.pages:\n",
    "                text += page.extract_text()\n",
    "            \n",
    "            llm = ChatOpenAI(model_name=\"gpt-3.5-turbo\", temperature=0)\n",
    "\n",
    "            skills_prompt = ChatPromptTemplate.from_template(\"\"\"\n",
    "            Given the below resume, extract the candidate's skills, if any, verbatim. Return them in the following format (delimited by triple backticks):\n",
    "            \\\"\\\"\\\"\n",
    "            Skills:\n",
    "            - skill 1 (verbatim from resume)\n",
    "            - skill 2 (verbatim from resume)\n",
    "            ...\n",
    "            \\\"\\\"\\\"                                                                                    \n",
    "            Resume: {resume}\n",
    "            Answer:                                           \n",
    "            \"\"\")\n",
    "\n",
    "            experiences_prompt = ChatPromptTemplate.from_template(\"\"\"\n",
    "            Given the below resume, extract the candidate's experiences, if any, verbatim. Return them in the following format (delimited by triple backticks):\n",
    "            \\\"\\\"\\\"\n",
    "            Experiences:\n",
    "            - experience 1 (date range)\n",
    "                - bullet points (verbatim from resume)                                                      \n",
    "            - experience 2 (date range)\n",
    "                - bullet points (verbatim from resume)\n",
    "            ...\n",
    "            \\\"\\\"\\\"                                                                                    \n",
    "            Resume: {resume}\n",
    "            Answer:                                           \n",
    "            \"\"\")\n",
    "\n",
    "            education_prompt = ChatPromptTemplate.from_template(\"\"\"\n",
    "            Given the below resume, extract the candidate's education history, if any, verbatim. Return them in the following format (delimited by triple backticks):\n",
    "            \\\"\\\"\\\"\n",
    "            Education:\n",
    "            - education 1 (verbatim from resume)\n",
    "            - education 2 (verbatim from resume)\n",
    "            ...\n",
    "            \\\"\\\"\\\"                                                                                    \n",
    "            Resume: {resume}\n",
    "            Answer:                                           \n",
    "            \"\"\")\n",
    "\n",
    "            interests_prompt = ChatPromptTemplate.from_template(\"\"\"\n",
    "            Given the below resume, extract the candidate's interests, if any, verbatim. Return them in the following format (delimited by triple backticks):\n",
    "            \\\"\\\"\\\"\n",
    "            Interests:\n",
    "            - interest 1 (verbatim from resume)\n",
    "            - interest 2 (verbatim from resume)\n",
    "            ...\n",
    "            \\\"\\\"\\\"                                                                                    \n",
    "            Resume: {resume}\n",
    "            Answer:                                           \n",
    "            \"\"\")\n",
    "\n",
    "            prompts = [skills_prompt, experiences_prompt, education_prompt, interests_prompt]\n",
    "            \n",
    "            self.resume = \"\" \n",
    "            for prompt in prompts:\n",
    "                rag_chain = (\n",
    "                    {\"resume\": RunnablePassthrough()}\n",
    "                    | prompt\n",
    "                    | llm\n",
    "                    | StrOutputParser()\n",
    "                )\n",
    "                try: \n",
    "                    self.resume += rag_chain.invoke(text)\n",
    "                except:\n",
    "                    pass\n",
    "\n",
    "\n",
    "\n",
    "class JobDescriptionParser:\n",
    "    def __init__(self, description: str):\n",
    "        print (\"parsing job description...\")\n",
    "        llm = ChatOpenAI(model_name=\"gpt-3.5-turbo\", temperature=0)\n",
    "        \n",
    "        essentials_prompt = ChatPromptTemplate.from_template(\"\"\"\n",
    "        Given the below job description and the candidates relevant skills and experiences, please list anything listed as, essential, required, or otherwise needed essentially for a candidate to apply. If any, please be verbatim when listing these requirements, otherwise return nothing.\n",
    "        Return them in the following format (delimited by triple backticks):\n",
    "        \\\"\\\"\\\"\n",
    "        Essential Skills:\n",
    "        - skill 1 (verbatim from resume)\n",
    "        - skill 2 (verbatim from resume)\n",
    "        ...\n",
    "        \\\"\\\"\\\"                                                                                    \n",
    "        Job Description: {job_description}. \n",
    "        Answer:                                           \n",
    "        \"\"\")\n",
    "\n",
    "        rag_chain = (\n",
    "            {\"job_description\": RunnablePassthrough()}\n",
    "            | essentials_prompt\n",
    "            | llm\n",
    "            | StrOutputParser()\n",
    "        )\n",
    "\n",
    "        essentials = rag_chain.invoke(description)\n",
    "\n",
    "        desirables_prompt = ChatPromptTemplate.from_template(\"\"\"\n",
    "        Given the below job description and the candidates relevant skills and experiences, please list anything listed as beneficial or preffered, or otherwise non-essential but beneficial to have. The if the requirement is already satisfied, don't include it at all.\n",
    "        Return them in the following format (delimited by triple backticks):\n",
    "        \\\"\\\"\\\"\n",
    "        Desirable Skills:\n",
    "        - skill 1 (verbatim from resume)\n",
    "        - skill 2 (verbatim from resume)\n",
    "        ...\n",
    "        \\\"\\\"\\\"                                              \n",
    "        Job Description: {job_description}\n",
    "        Satisfied: {context}\n",
    "        Preferred Requirements:                                           \n",
    "        \"\"\")\n",
    "\n",
    "        rag_chain = (\n",
    "            {\"job_description\": RunnablePassthrough(), \"context\": RunnablePassthrough()}\n",
    "            | desirables_prompt\n",
    "            | llm\n",
    "            | StrOutputParser()\n",
    "        )\n",
    "\n",
    "        desirables = rag_chain.invoke(job_description=description, context=essentials)\n",
    "\n",
    "        self.requirements = essentials + \"\\n\" + desirables\n",
    "\n",
    "        "
   ]
  },
  {
   "cell_type": "code",
   "execution_count": 25,
   "metadata": {},
   "outputs": [
    {
     "name": "stdout",
     "output_type": "stream",
     "text": [
      "parsing resume...\n"
     ]
    }
   ],
   "source": [
    "resume = ResumeParser(\"../static/resume.pdf\")\n",
    "job_description = JobDescriptionParser(job_description)"
   ]
  },
  {
   "cell_type": "code",
   "execution_count": 30,
   "metadata": {},
   "outputs": [],
   "source": [
    "prompt = ChatPromptTemplate.from_template(\"\"\"\n",
    "Given the below job description and the candidates relevant skills and experiences, point out strengths about the candidate's experiences relative to the job, if any.\n",
    "If there are any strengths, respond in the following format (delimited by triple backticks) for each strength, one after another in the style of a python list:\n",
    "\\\"\\\"\\\"\n",
    "[pair1, pair2, ... pairN] where pairI =                                          \n",
    "(\n",
    " \"the relevant snippet, verbatim, from the candidate's resume\",\n",
    " \"your commentary on the strength and why it's good for the job\"                                                                              \n",
    ")\n",
    "\\\"\\\"\\\"                                                                                    \n",
    "Job Description: {job_description}\n",
    "Relevant Skills and Experiences: {context}\n",
    "Answer:                                           \n",
    "\"\"\")\n",
    "\n",
    "\n",
    "# prompt = eval(prompt)\n",
    "llm = ChatOpenAI(model_name=\"gpt-3.5-turbo\", temperature=0)"
   ]
  },
  {
   "cell_type": "code",
   "execution_count": 31,
   "metadata": {},
   "outputs": [],
   "source": [
    "def format_docs(docs):\n",
    "    return \"\\n\\n\".join(doc.page_content for doc in docs)"
   ]
  },
  {
   "cell_type": "code",
   "execution_count": 32,
   "metadata": {},
   "outputs": [],
   "source": [
    "rag_chain = (\n",
    "    {\"job_description\": RunnablePassthrough(), \"context\": retriever | format_docs}\n",
    "    | prompt\n",
    "    | llm\n",
    "    | StrOutputParser()\n",
    ")"
   ]
  },
  {
   "cell_type": "code",
   "execution_count": 33,
   "metadata": {},
   "outputs": [
    {
     "data": {
      "text/plain": [
       "'[\\n(\\n \"Experienced in both self-guided freelance work and collaborative team projects, showcasing excellent teamwork and interpersonal skills.\",\\n \"This strength demonstrates the candidate\\'s ability to work both independently and in a team, which is important for the team-based multidisciplinary project described in the job description.\"\\n),\\n(\\n \"Particularly strong interest in the fields of machine learning and artificial intelligence, and actively seeking to apply diverse skillset to innovative challenges in computer science.\",\\n \"This strength aligns with the job\\'s requirement for advanced data science and modeling techniques, as well as experience with large language models and neural networks.\"\\n),\\n(\\n \"Data Analysis with Matplotlib and Jupyter Notebooks (2022)\",\\n \"This experience shows the candidate\\'s proficiency in data analysis, which is a relevant skill for the job.\"\\n),\\n(\\n \"OpenAI and Google Sheets API Integration for Bulk Content Generation (2022)\",\\n \"This experience demonstrates the candidate\\'s familiarity with applied AI techniques, which is a specific skill mentioned in the job description.\"\\n),\\n(\\n \"SMTP Email Server Air Quality Monitor (2020)\",\\n \"This project showcases the candidate\\'s practical experience implementing predictive analytics in a complex data environment, which is an additional desired skill mentioned in the job description.\"\\n),\\n(\\n \"Machine Learning Subteam (2023-)\",\\n \"This involvement in the Machine Learning Subteam of Michigan Hackers indicates the candidate\\'s interest and experience in machine learning, which is relevant to the job.\"\\n)\\n]'"
      ]
     },
     "execution_count": 33,
     "metadata": {},
     "output_type": "execute_result"
    }
   ],
   "source": [
    "rag_chain.invoke(job_description)"
   ]
  }
 ],
 "metadata": {
  "kernelspec": {
   "display_name": "Python 3",
   "language": "python",
   "name": "python3"
  },
  "language_info": {
   "codemirror_mode": {
    "name": "ipython",
    "version": 3
   },
   "file_extension": ".py",
   "mimetype": "text/x-python",
   "name": "python",
   "nbconvert_exporter": "python",
   "pygments_lexer": "ipython3",
   "version": "3.11.6"
  }
 },
 "nbformat": 4,
 "nbformat_minor": 2
}
