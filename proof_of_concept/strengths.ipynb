{
 "cells": [
  {
   "cell_type": "code",
   "execution_count": 1,
   "metadata": {},
   "outputs": [],
   "source": [
    "from langchain.chat_models import ChatOpenAI\n",
    "from langchain.schema import StrOutputParser\n",
    "from langchain.document_loaders import UnstructuredPDFLoader\n",
    "from langchain.schema.runnable import RunnablePassthrough\n",
    "from langchain.embeddings import OpenAIEmbeddings\n",
    "from langchain.vectorstores import Chroma"
   ]
  },
  {
   "cell_type": "code",
   "execution_count": 2,
   "metadata": {},
   "outputs": [
    {
     "data": {
      "text/plain": [
       "True"
      ]
     },
     "execution_count": 2,
     "metadata": {},
     "output_type": "execute_result"
    }
   ],
   "source": [
    "from dotenv import load_dotenv\n",
    "import os\n",
    "\n",
    "load_dotenv()\n",
    "\n",
    "# API_KEY = os.getenv(\"OPENAI_API_KEY\")"
   ]
  },
  {
   "cell_type": "code",
   "execution_count": 3,
   "metadata": {},
   "outputs": [
    {
     "name": "stderr",
     "output_type": "stream",
     "text": [
      "C:\\Users\\amira\\AppData\\Local\\Packages\\PythonSoftwareFoundation.Python.3.11_qbz5n2kfra8p0\\LocalCache\\local-packages\\Python311\\site-packages\\tqdm\\auto.py:21: TqdmWarning: IProgress not found. Please update jupyter and ipywidgets. See https://ipywidgets.readthedocs.io/en/stable/user_install.html\n",
      "  from .autonotebook import tqdm as notebook_tqdm\n"
     ]
    }
   ],
   "source": [
    "loader = UnstructuredPDFLoader(\"../static/resume.pdf\")\n",
    "\n",
    "data = loader.load()"
   ]
  },
  {
   "cell_type": "code",
   "execution_count": 4,
   "metadata": {},
   "outputs": [],
   "source": [
    "from langchain.text_splitter import RecursiveCharacterTextSplitter"
   ]
  },
  {
   "cell_type": "code",
   "execution_count": 5,
   "metadata": {},
   "outputs": [],
   "source": [
    "text_splitter = RecursiveCharacterTextSplitter(chunk_size=500, chunk_overlap=100)\n",
    "splits = text_splitter.split_documents(data)"
   ]
  },
  {
   "cell_type": "code",
   "execution_count": 6,
   "metadata": {},
   "outputs": [],
   "source": [
    "embedding = OpenAIEmbeddings(model='text-embedding-ada-002')"
   ]
  },
  {
   "cell_type": "code",
   "execution_count": 7,
   "metadata": {},
   "outputs": [],
   "source": [
    "vectorstore = Chroma.from_documents(documents=splits, embedding=embedding)\n",
    "retriever = vectorstore.as_retriever()"
   ]
  },
  {
   "cell_type": "code",
   "execution_count": 8,
   "metadata": {},
   "outputs": [],
   "source": [
    "job_description = \"\"\"\n",
    "Below are the skills needed for this project. Students with the following relevant skills and interest, regardless of major, are encouraged to apply! This is a team based multidisciplinary project. Students on the team are not expected to have experience in all areas, but should be willing to learn and will be asked to perform a breadth of tasks throughout the two semester project.\n",
    "Advanced Data Science and Modeling Techniques\n",
    "Specific Skills: Applied project experience with Large Language Models and other applied AI techniques OR advanced coursework\n",
    "\n",
    "Likely Majors: DATA, STATS, MATH, CS\n",
    "\n",
    "\n",
    "Data Science\n",
    "Specific Skills: General skills in Data Science, good software development skills, and a willingness to quickly develop new technical skills as required for the project\n",
    "\n",
    "EECS 281(or equivalent) is required\n",
    "\n",
    "Likely Majors: DATA, CS\n",
    "\n",
    "\n",
    "General Coding\n",
    "Specific Skills: General Programming skills, good software engineering practice and design, and a willingness to quickly develop new technical skills as required for the project \n",
    "\n",
    "EECS 281 (or equivalent) is required\n",
    "\n",
    "Likely Majors: CS, DATA, BBA/CS\n",
    "\n",
    "\n",
    "\n",
    "Additional Desired Skills/Knowledge/Experience\n",
    "Successful team-based project experience.  Excellent interpersonal skills\n",
    "Project Management utilizing Agile/Scrum\n",
    "Experience in business process analysis\n",
    "Interest in and general knowledge of Commercial Banking\n",
    "Practical experience implementing predictive analytics in a complex data environment\n",
    "Ability and desire to independently learn new technology skills as necessary for the project\n",
    "Experience implementing large language models, neural networks and self-supervised / semi-supervised learning models\n",
    "\"\"\""
   ]
  },
  {
   "cell_type": "code",
   "execution_count": 21,
   "metadata": {},
   "outputs": [],
   "source": [
    "from langchain.prompts import ChatPromptTemplate\n",
    "import PyPDF2"
   ]
  },
  {
   "cell_type": "code",
   "execution_count": 22,
   "metadata": {},
   "outputs": [],
   "source": [
    "class ResumeParser:\n",
    "    def __init__(self, path: str):\n",
    "        print (\"parsing resume...\")\n",
    "        with open(path, 'rb') as file:\n",
    "            reader = PyPDF2.PdfReader(file)\n",
    "            text = \"\"\n",
    "            for page in reader.pages:\n",
    "                text += page.extract_text()\n",
    "            \n",
    "            llm = ChatOpenAI(model_name=\"gpt-3.5-turbo\", temperature=0)\n",
    "\n",
    "            skills_prompt = ChatPromptTemplate.from_template(\"\"\"\n",
    "            Given the below resume, extract the candidate's skills, if any, verbatim. Return them in the following format (delimited by triple backticks):\n",
    "            \\\"\\\"\\\"\n",
    "            Skills:\n",
    "            - skill 1 (verbatim from resume)\n",
    "            - skill 2 (verbatim from resume)\n",
    "            ...\n",
    "            \\\"\\\"\\\"                                                                                    \n",
    "            Resume: {resume}\n",
    "            Answer:                                           \n",
    "            \"\"\")\n",
    "\n",
    "            experiences_prompt = ChatPromptTemplate.from_template(\"\"\"\n",
    "            Given the below resume, extract the candidate's experiences, if any, verbatim. Return them in the following format (delimited by triple backticks):\n",
    "            \\\"\\\"\\\"\n",
    "            Experiences:\n",
    "            - experience 1 (date range)\n",
    "                - bullet points (verbatim from resume)                                                      \n",
    "            - experience 2 (date range)\n",
    "                - bullet points (verbatim from resume)\n",
    "            ...\n",
    "            \\\"\\\"\\\"                                                                                    \n",
    "            Resume: {resume}\n",
    "            Answer:                                           \n",
    "            \"\"\")\n",
    "\n",
    "            education_prompt = ChatPromptTemplate.from_template(\"\"\"\n",
    "            Given the below resume, extract the candidate's education history, if any, verbatim. Return them in the following format (delimited by triple backticks):\n",
    "            \\\"\\\"\\\"\n",
    "            Education:\n",
    "            - education 1 (verbatim from resume)\n",
    "            - education 2 (verbatim from resume)\n",
    "            ...\n",
    "            \\\"\\\"\\\"                                                                                    \n",
    "            Resume: {resume}\n",
    "            Answer:                                           \n",
    "            \"\"\")\n",
    "\n",
    "            interests_prompt = ChatPromptTemplate.from_template(\"\"\"\n",
    "            Given the below resume, extract the candidate's interests, if any, verbatim. Return them in the following format (delimited by triple backticks):\n",
    "            \\\"\\\"\\\"\n",
    "            Interests:\n",
    "            - interest 1 (verbatim from resume)\n",
    "            - interest 2 (verbatim from resume)\n",
    "            ...\n",
    "            \\\"\\\"\\\"                                                                                    \n",
    "            Resume: {resume}\n",
    "            Answer:                                           \n",
    "            \"\"\")\n",
    "\n",
    "            prompts = [skills_prompt, experiences_prompt, education_prompt, interests_prompt]\n",
    "            \n",
    "            self.resume = \"\" \n",
    "            for prompt in prompts:\n",
    "                rag_chain = (\n",
    "                    {\"resume\": RunnablePassthrough()}\n",
    "                    | prompt\n",
    "                    | llm\n",
    "                    | StrOutputParser()\n",
    "                )\n",
    "                try: \n",
    "                    self.resume += rag_chain.invoke(text)\n",
    "                except:\n",
    "                    pass\n",
    "\n",
    "\n",
    "\n",
    "class JobDescriptionParser:\n",
    "    def __init__(self, description: str):\n",
    "        print (\"parsing job description...\")\n",
    "        llm = ChatOpenAI(model_name=\"gpt-3.5-turbo\", temperature=0)\n",
    "        \n",
    "        essentials_prompt = ChatPromptTemplate.from_template(\"\"\"\n",
    "        Given the below job description and the candidates relevant skills and experiences, please list anything listed as, essential, required, or otherwise needed essentially for a candidate to apply. If any, please be verbatim when listing these requirements, otherwise return nothing.\n",
    "        Return them in the following format (delimited by triple backticks):\n",
    "        \\\"\\\"\\\"\n",
    "        Essential Skills:\n",
    "        - skill 1 (verbatim from resume)\n",
    "        - skill 2 (verbatim from resume)\n",
    "        ...\n",
    "        \\\"\\\"\\\"                                                                                    \n",
    "        Job Description: {job_description}. \n",
    "        Answer:                                           \n",
    "        \"\"\")\n",
    "\n",
    "        rag_chain = (\n",
    "            {\"job_description\": RunnablePassthrough()}\n",
    "            | essentials_prompt\n",
    "            | llm\n",
    "            | StrOutputParser()\n",
    "        )\n",
    "\n",
    "        essentials = rag_chain.invoke(description)\n",
    "\n",
    "        desirables_prompt = ChatPromptTemplate.from_template(\"\"\"\n",
    "        Given the below job description and the candidates relevant skills and experiences, please list anything listed as beneficial or preffered, or otherwise non-essential but beneficial to have. The if the requirement is already satisfied, don't include it at all.\n",
    "        Return them in the following format (delimited by triple backticks):\n",
    "        \\\"\\\"\\\"\n",
    "        Desirable Skills:\n",
    "        - skill 1 (verbatim from resume)\n",
    "        - skill 2 (verbatim from resume)\n",
    "        ...\n",
    "        \\\"\\\"\\\"                                              \n",
    "        Job Description: {job_description}\n",
    "        Satisfied: {context}\n",
    "        Preferred Requirements:                                           \n",
    "        \"\"\")\n",
    "\n",
    "        rag_chain = (\n",
    "            {\"job_description\": RunnablePassthrough(), \"context\": RunnablePassthrough()}\n",
    "            | desirables_prompt\n",
    "            | llm\n",
    "            | StrOutputParser()\n",
    "        )\n",
    "\n",
    "        desirables = rag_chain.invoke(job_description=description, context=essentials)\n",
    "\n",
    "        self.requirements = essentials + \"\\n\" + desirables\n",
    "\n",
    "        "
   ]
  },
  {
   "cell_type": "code",
   "execution_count": 23,
   "metadata": {},
   "outputs": [
    {
     "name": "stdout",
     "output_type": "stream",
     "text": [
      "parsing resume...\n",
      "parsing job description...\n"
     ]
    },
    {
     "ename": "TypeError",
     "evalue": "Expected a Runnable, callable or dict.Instead got an unsupported type: <class 'str'>",
     "output_type": "error",
     "traceback": [
      "\u001b[1;31m---------------------------------------------------------------------------\u001b[0m",
      "\u001b[1;31mTypeError\u001b[0m                                 Traceback (most recent call last)",
      "\u001b[1;32mc:\\Users\\amira\\OneDrive\\Documents\\GitHub\\Projects\\resume-screener\\proof_of_concept\\strengths.ipynb Cell 11\u001b[0m line \u001b[0;36m2\n\u001b[0;32m      <a href='vscode-notebook-cell:/c%3A/Users/amira/OneDrive/Documents/GitHub/Projects/resume-screener/proof_of_concept/strengths.ipynb#X14sZmlsZQ%3D%3D?line=0'>1</a>\u001b[0m resume \u001b[39m=\u001b[39m ResumeParser(\u001b[39m\"\u001b[39m\u001b[39m../static/resume.pdf\u001b[39m\u001b[39m\"\u001b[39m)\n\u001b[1;32m----> <a href='vscode-notebook-cell:/c%3A/Users/amira/OneDrive/Documents/GitHub/Projects/resume-screener/proof_of_concept/strengths.ipynb#X14sZmlsZQ%3D%3D?line=1'>2</a>\u001b[0m job_description \u001b[39m=\u001b[39m JobDescriptionParser(job_description)\n",
      "\u001b[1;32mc:\\Users\\amira\\OneDrive\\Documents\\GitHub\\Projects\\resume-screener\\proof_of_concept\\strengths.ipynb Cell 11\u001b[0m line \u001b[0;36m1\n\u001b[0;32m    <a href='vscode-notebook-cell:/c%3A/Users/amira/OneDrive/Documents/GitHub/Projects/resume-screener/proof_of_concept/strengths.ipynb#X14sZmlsZQ%3D%3D?line=103'>104</a>\u001b[0m essentials \u001b[39m=\u001b[39m rag_chain\u001b[39m.\u001b[39minvoke(description)\n\u001b[0;32m    <a href='vscode-notebook-cell:/c%3A/Users/amira/OneDrive/Documents/GitHub/Projects/resume-screener/proof_of_concept/strengths.ipynb#X14sZmlsZQ%3D%3D?line=105'>106</a>\u001b[0m desirables_prompt \u001b[39m=\u001b[39m ChatPromptTemplate\u001b[39m.\u001b[39mfrom_template(\u001b[39m\"\"\"\u001b[39m\n\u001b[0;32m    <a href='vscode-notebook-cell:/c%3A/Users/amira/OneDrive/Documents/GitHub/Projects/resume-screener/proof_of_concept/strengths.ipynb#X14sZmlsZQ%3D%3D?line=106'>107</a>\u001b[0m \u001b[39mGiven the below job description and the candidates relevant skills and experiences, please list anything listed as beneficial or preffered, or otherwise non-essential but beneficial to have. The if the requirement is already satisfied, don\u001b[39m\u001b[39m'\u001b[39m\u001b[39mt include it at all.\u001b[39m\n\u001b[0;32m    <a href='vscode-notebook-cell:/c%3A/Users/amira/OneDrive/Documents/GitHub/Projects/resume-screener/proof_of_concept/strengths.ipynb#X14sZmlsZQ%3D%3D?line=107'>108</a>\u001b[0m \u001b[39mReturn them in the following format (delimited by triple backticks):\u001b[39m\n\u001b[1;32m   (...)\u001b[0m\n\u001b[0;32m    <a href='vscode-notebook-cell:/c%3A/Users/amira/OneDrive/Documents/GitHub/Projects/resume-screener/proof_of_concept/strengths.ipynb#X14sZmlsZQ%3D%3D?line=116'>117</a>\u001b[0m \u001b[39mPreferred Requirements:                                           \u001b[39m\n\u001b[0;32m    <a href='vscode-notebook-cell:/c%3A/Users/amira/OneDrive/Documents/GitHub/Projects/resume-screener/proof_of_concept/strengths.ipynb#X14sZmlsZQ%3D%3D?line=117'>118</a>\u001b[0m \u001b[39m\u001b[39m\u001b[39m\"\"\"\u001b[39m)\n\u001b[0;32m    <a href='vscode-notebook-cell:/c%3A/Users/amira/OneDrive/Documents/GitHub/Projects/resume-screener/proof_of_concept/strengths.ipynb#X14sZmlsZQ%3D%3D?line=119'>120</a>\u001b[0m rag_chain \u001b[39m=\u001b[39m (\n\u001b[1;32m--> <a href='vscode-notebook-cell:/c%3A/Users/amira/OneDrive/Documents/GitHub/Projects/resume-screener/proof_of_concept/strengths.ipynb#X14sZmlsZQ%3D%3D?line=120'>121</a>\u001b[0m     {\u001b[39m\"\u001b[39;49m\u001b[39mjob_description\u001b[39;49m\u001b[39m\"\u001b[39;49m: description, \u001b[39m\"\u001b[39;49m\u001b[39mcontext\u001b[39;49m\u001b[39m\"\u001b[39;49m: essentials}\n\u001b[0;32m    <a href='vscode-notebook-cell:/c%3A/Users/amira/OneDrive/Documents/GitHub/Projects/resume-screener/proof_of_concept/strengths.ipynb#X14sZmlsZQ%3D%3D?line=121'>122</a>\u001b[0m     \u001b[39m|\u001b[39;49m desirables_prompt\n\u001b[0;32m    <a href='vscode-notebook-cell:/c%3A/Users/amira/OneDrive/Documents/GitHub/Projects/resume-screener/proof_of_concept/strengths.ipynb#X14sZmlsZQ%3D%3D?line=122'>123</a>\u001b[0m     \u001b[39m|\u001b[39m llm\n\u001b[0;32m    <a href='vscode-notebook-cell:/c%3A/Users/amira/OneDrive/Documents/GitHub/Projects/resume-screener/proof_of_concept/strengths.ipynb#X14sZmlsZQ%3D%3D?line=123'>124</a>\u001b[0m     \u001b[39m|\u001b[39m StrOutputParser()\n\u001b[0;32m    <a href='vscode-notebook-cell:/c%3A/Users/amira/OneDrive/Documents/GitHub/Projects/resume-screener/proof_of_concept/strengths.ipynb#X14sZmlsZQ%3D%3D?line=124'>125</a>\u001b[0m )\n\u001b[0;32m    <a href='vscode-notebook-cell:/c%3A/Users/amira/OneDrive/Documents/GitHub/Projects/resume-screener/proof_of_concept/strengths.ipynb#X14sZmlsZQ%3D%3D?line=126'>127</a>\u001b[0m desirables \u001b[39m=\u001b[39m rag_chain\u001b[39m.\u001b[39minvoke(description, essentials)\n\u001b[0;32m    <a href='vscode-notebook-cell:/c%3A/Users/amira/OneDrive/Documents/GitHub/Projects/resume-screener/proof_of_concept/strengths.ipynb#X14sZmlsZQ%3D%3D?line=128'>129</a>\u001b[0m \u001b[39mself\u001b[39m\u001b[39m.\u001b[39mrequirements \u001b[39m=\u001b[39m essentials \u001b[39m+\u001b[39m \u001b[39m\"\u001b[39m\u001b[39m\\n\u001b[39;00m\u001b[39m\"\u001b[39m \u001b[39m+\u001b[39m desirables\n",
      "File \u001b[1;32m~\\AppData\\Local\\Packages\\PythonSoftwareFoundation.Python.3.11_qbz5n2kfra8p0\\LocalCache\\local-packages\\Python311\\site-packages\\langchain\\schema\\runnable\\base.py:374\u001b[0m, in \u001b[0;36mRunnable.__ror__\u001b[1;34m(self, other)\u001b[0m\n\u001b[0;32m    364\u001b[0m \u001b[39mdef\u001b[39;00m \u001b[39m__ror__\u001b[39m(\n\u001b[0;32m    365\u001b[0m     \u001b[39mself\u001b[39m,\n\u001b[0;32m    366\u001b[0m     other: Union[\n\u001b[1;32m   (...)\u001b[0m\n\u001b[0;32m    371\u001b[0m     ],\n\u001b[0;32m    372\u001b[0m ) \u001b[39m-\u001b[39m\u001b[39m>\u001b[39m RunnableSerializable[Other, Output]:\n\u001b[0;32m    373\u001b[0m \u001b[39m    \u001b[39m\u001b[39m\"\"\"Compose this runnable with another object to create a RunnableSequence.\"\"\"\u001b[39;00m\n\u001b[1;32m--> 374\u001b[0m     \u001b[39mreturn\u001b[39;00m RunnableSequence(first\u001b[39m=\u001b[39mcoerce_to_runnable(other), last\u001b[39m=\u001b[39m\u001b[39mself\u001b[39m)\n",
      "File \u001b[1;32m~\\AppData\\Local\\Packages\\PythonSoftwareFoundation.Python.3.11_qbz5n2kfra8p0\\LocalCache\\local-packages\\Python311\\site-packages\\langchain\\schema\\runnable\\base.py:3021\u001b[0m, in \u001b[0;36mcoerce_to_runnable\u001b[1;34m(thing)\u001b[0m\n\u001b[0;32m   3019\u001b[0m     \u001b[39mreturn\u001b[39;00m RunnableLambda(cast(Callable[[Input], Output], thing))\n\u001b[0;32m   3020\u001b[0m \u001b[39melif\u001b[39;00m \u001b[39misinstance\u001b[39m(thing, \u001b[39mdict\u001b[39m):\n\u001b[1;32m-> 3021\u001b[0m     \u001b[39mreturn\u001b[39;00m cast(Runnable[Input, Output], RunnableParallel(thing))\n\u001b[0;32m   3022\u001b[0m \u001b[39melse\u001b[39;00m:\n\u001b[0;32m   3023\u001b[0m     \u001b[39mraise\u001b[39;00m \u001b[39mTypeError\u001b[39;00m(\n\u001b[0;32m   3024\u001b[0m         \u001b[39mf\u001b[39m\u001b[39m\"\u001b[39m\u001b[39mExpected a Runnable, callable or dict.\u001b[39m\u001b[39m\"\u001b[39m\n\u001b[0;32m   3025\u001b[0m         \u001b[39mf\u001b[39m\u001b[39m\"\u001b[39m\u001b[39mInstead got an unsupported type: \u001b[39m\u001b[39m{\u001b[39;00m\u001b[39mtype\u001b[39m(thing)\u001b[39m}\u001b[39;00m\u001b[39m\"\u001b[39m\n\u001b[0;32m   3026\u001b[0m     )\n",
      "File \u001b[1;32m~\\AppData\\Local\\Packages\\PythonSoftwareFoundation.Python.3.11_qbz5n2kfra8p0\\LocalCache\\local-packages\\Python311\\site-packages\\langchain\\schema\\runnable\\base.py:1835\u001b[0m, in \u001b[0;36mRunnableParallel.__init__\u001b[1;34m(self, _RunnableParallel__steps, **kwargs)\u001b[0m\n\u001b[0;32m   1832\u001b[0m merged \u001b[39m=\u001b[39m {\u001b[39m*\u001b[39m\u001b[39m*\u001b[39m__steps} \u001b[39mif\u001b[39;00m __steps \u001b[39mis\u001b[39;00m \u001b[39mnot\u001b[39;00m \u001b[39mNone\u001b[39;00m \u001b[39melse\u001b[39;00m {}\n\u001b[0;32m   1833\u001b[0m merged\u001b[39m.\u001b[39mupdate(kwargs)\n\u001b[0;32m   1834\u001b[0m \u001b[39msuper\u001b[39m()\u001b[39m.\u001b[39m\u001b[39m__init__\u001b[39m(\n\u001b[1;32m-> 1835\u001b[0m     steps\u001b[39m=\u001b[39m{key: coerce_to_runnable(r) \u001b[39mfor\u001b[39;49;00m key, r \u001b[39min\u001b[39;49;00m merged\u001b[39m.\u001b[39;49mitems()}\n\u001b[0;32m   1836\u001b[0m )\n",
      "File \u001b[1;32m~\\AppData\\Local\\Packages\\PythonSoftwareFoundation.Python.3.11_qbz5n2kfra8p0\\LocalCache\\local-packages\\Python311\\site-packages\\langchain\\schema\\runnable\\base.py:1835\u001b[0m, in \u001b[0;36m<dictcomp>\u001b[1;34m(.0)\u001b[0m\n\u001b[0;32m   1832\u001b[0m merged \u001b[39m=\u001b[39m {\u001b[39m*\u001b[39m\u001b[39m*\u001b[39m__steps} \u001b[39mif\u001b[39;00m __steps \u001b[39mis\u001b[39;00m \u001b[39mnot\u001b[39;00m \u001b[39mNone\u001b[39;00m \u001b[39melse\u001b[39;00m {}\n\u001b[0;32m   1833\u001b[0m merged\u001b[39m.\u001b[39mupdate(kwargs)\n\u001b[0;32m   1834\u001b[0m \u001b[39msuper\u001b[39m()\u001b[39m.\u001b[39m\u001b[39m__init__\u001b[39m(\n\u001b[1;32m-> 1835\u001b[0m     steps\u001b[39m=\u001b[39m{key: coerce_to_runnable(r) \u001b[39mfor\u001b[39;00m key, r \u001b[39min\u001b[39;00m merged\u001b[39m.\u001b[39mitems()}\n\u001b[0;32m   1836\u001b[0m )\n",
      "File \u001b[1;32m~\\AppData\\Local\\Packages\\PythonSoftwareFoundation.Python.3.11_qbz5n2kfra8p0\\LocalCache\\local-packages\\Python311\\site-packages\\langchain\\schema\\runnable\\base.py:3023\u001b[0m, in \u001b[0;36mcoerce_to_runnable\u001b[1;34m(thing)\u001b[0m\n\u001b[0;32m   3021\u001b[0m     \u001b[39mreturn\u001b[39;00m cast(Runnable[Input, Output], RunnableParallel(thing))\n\u001b[0;32m   3022\u001b[0m \u001b[39melse\u001b[39;00m:\n\u001b[1;32m-> 3023\u001b[0m     \u001b[39mraise\u001b[39;00m \u001b[39mTypeError\u001b[39;00m(\n\u001b[0;32m   3024\u001b[0m         \u001b[39mf\u001b[39m\u001b[39m\"\u001b[39m\u001b[39mExpected a Runnable, callable or dict.\u001b[39m\u001b[39m\"\u001b[39m\n\u001b[0;32m   3025\u001b[0m         \u001b[39mf\u001b[39m\u001b[39m\"\u001b[39m\u001b[39mInstead got an unsupported type: \u001b[39m\u001b[39m{\u001b[39;00m\u001b[39mtype\u001b[39m(thing)\u001b[39m}\u001b[39;00m\u001b[39m\"\u001b[39m\n\u001b[0;32m   3026\u001b[0m     )\n",
      "\u001b[1;31mTypeError\u001b[0m: Expected a Runnable, callable or dict.Instead got an unsupported type: <class 'str'>"
     ]
    }
   ],
   "source": [
    "resume = ResumeParser(\"../static/resume.pdf\")\n",
    "job_description = JobDescriptionParser(job_description)"
   ]
  },
  {
   "cell_type": "code",
   "execution_count": null,
   "metadata": {},
   "outputs": [],
   "source": []
  }
 ],
 "metadata": {
  "kernelspec": {
   "display_name": "Python 3",
   "language": "python",
   "name": "python3"
  },
  "language_info": {
   "codemirror_mode": {
    "name": "ipython",
    "version": 3
   },
   "file_extension": ".py",
   "mimetype": "text/x-python",
   "name": "python",
   "nbconvert_exporter": "python",
   "pygments_lexer": "ipython3",
   "version": "3.11.6"
  }
 },
 "nbformat": 4,
 "nbformat_minor": 2
}
