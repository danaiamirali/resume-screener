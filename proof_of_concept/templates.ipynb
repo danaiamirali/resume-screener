{
 "cells": [
  {
   "cell_type": "code",
   "execution_count": 1,
   "metadata": {},
   "outputs": [],
   "source": [
    "from langchain import hub\n",
    "from langchain.chat_models import ChatOpenAI\n",
    "from langchain.document_loaders import UnstructuredPDFLoader\n",
    "from langchain.embeddings import OpenAIEmbeddings\n",
    "from langchain.schema import StrOutputParser\n",
    "from langchain.schema.runnable import RunnablePassthrough\n",
    "from langchain.text_splitter import RecursiveCharacterTextSplitter\n",
    "from langchain.vectorstores import Chroma"
   ]
  },
  {
   "cell_type": "code",
   "execution_count": 2,
   "metadata": {},
   "outputs": [],
   "source": [
    "from dotenv import load_dotenv\n",
    "import os\n",
    "\n",
    "load_dotenv()\n",
    "\n",
    "API_KEY = os.getenv(\"OPENAI_API_KEY\")"
   ]
  },
  {
   "cell_type": "code",
   "execution_count": 4,
   "metadata": {},
   "outputs": [],
   "source": [
    "loader = UnstructuredPDFLoader(\"../resume.pdf\")\n",
    "\n",
    "data = loader.load()"
   ]
  },
  {
   "cell_type": "code",
   "execution_count": 6,
   "metadata": {},
   "outputs": [],
   "source": [
    "text_splitter = RecursiveCharacterTextSplitter(chunk_size=1000, chunk_overlap=200)\n",
    "splits = text_splitter.split_documents(data)"
   ]
  },
  {
   "cell_type": "code",
   "execution_count": 7,
   "metadata": {},
   "outputs": [],
   "source": [
    "embedding = OpenAIEmbeddings(model='text-embedding-ada-002', api_key=API_KEY)"
   ]
  },
  {
   "cell_type": "code",
   "execution_count": 8,
   "metadata": {},
   "outputs": [],
   "source": [
    "vectorstore = Chroma.from_documents(documents=splits, embedding=embedding)\n",
    "retriever = vectorstore.as_retriever()"
   ]
  },
  {
   "cell_type": "code",
   "execution_count": 9,
   "metadata": {},
   "outputs": [],
   "source": [
    "job_description = \"\"\"\n",
    "Below are the skills needed for this project. Students with the following relevant skills and interest, regardless of major, are encouraged to apply! This is a team based multidisciplinary project. Students on the team are not expected to have experience in all areas, but should be willing to learn and will be asked to perform a breadth of tasks throughout the two semester project.\n",
    "Advanced Data Science and Modeling Techniques\n",
    "Specific Skills: Applied project experience with Large Language Models and other applied AI techniques OR advanced coursework\n",
    "\n",
    "Likely Majors: DATA, STATS, MATH, CS\n",
    "\n",
    "\n",
    "Data Science\n",
    "Specific Skills: General skills in Data Science, good software development skills, and a willingness to quickly develop new technical skills as required for the project\n",
    "\n",
    "EECS 281(or equivalent) is required\n",
    "\n",
    "Likely Majors: DATA, CS\n",
    "\n",
    "\n",
    "General Coding\n",
    "Specific Skills: General Programming skills, good software engineering practice and design, and a willingness to quickly develop new technical skills as required for the project \n",
    "\n",
    "EECS 281 (or equivalent) is required\n",
    "\n",
    "Likely Majors: CS, DATA, BBA/CS\n",
    "\n",
    "\n",
    "\n",
    "Additional Desired Skills/Knowledge/Experience\n",
    "Successful team-based project experience.  Excellent interpersonal skills\n",
    "Project Management utilizing Agile/Scrum\n",
    "Experience in business process analysis\n",
    "Interest in and general knowledge of Commercial Banking\n",
    "Practical experience implementing predictive analytics in a complex data environment\n",
    "Ability and desire to independently learn new technology skills as necessary for the project\n",
    "Experience implementing large language models, neural networks and self-supervised / semi-supervised learning models\n",
    "\"\"\""
   ]
  },
  {
   "cell_type": "code",
   "execution_count": 10,
   "metadata": {},
   "outputs": [],
   "source": [
    "from langchain.prompts import ChatPromptTemplate"
   ]
  },
  {
   "cell_type": "code",
   "execution_count": 11,
   "metadata": {},
   "outputs": [],
   "source": [
    "prompt = ChatPromptTemplate.from_template(\"\"\"\n",
    "Given the below job description and the candidates relevant skills and experiences, provide a YES or NO answer about whether the candidate is a truly good fit for the job.\n",
    "Job Description: {job_description}\n",
    "Relevant Skills and Experiences: {context}\n",
    "Answer:                                           \n",
    "\"\"\")\n",
    "\n",
    "\n",
    "# prompt = eval(prompt)\n",
    "llm = ChatOpenAI(model_name=\"gpt-3.5-turbo\", temperature=0)"
   ]
  },
  {
   "cell_type": "code",
   "execution_count": 12,
   "metadata": {},
   "outputs": [],
   "source": [
    "def format_docs(docs):\n",
    "    return \"\\n\\n\".join(doc.page_content for doc in docs)\n",
    "\n",
    "\n",
    "rag_chain = (\n",
    "    {\"job_description\": RunnablePassthrough(), \"context\": retriever | format_docs}\n",
    "    | prompt\n",
    "    | llm\n",
    "    | StrOutputParser()\n",
    ")"
   ]
  },
  {
   "cell_type": "code",
   "execution_count": 13,
   "metadata": {},
   "outputs": [
    {
     "data": {
      "text/plain": [
       "'YES'"
      ]
     },
     "execution_count": 13,
     "metadata": {},
     "output_type": "execute_result"
    }
   ],
   "source": [
    "rag_chain.invoke(job_description)"
   ]
  },
  {
   "cell_type": "code",
   "execution_count": 17,
   "metadata": {},
   "outputs": [],
   "source": [
    "prompt = ChatPromptTemplate.from_template(\"\"\"\n",
    "Given the below job description and the candidates relevant skills and experiences, point out strengths about the candidate's experiences relative to the job, if any.\n",
    "If there are any strengths, respond in the following format (delimited by triple backticks) for each strength:\n",
    "\\\"\\\"\\\"\n",
    "(\n",
    " \"strength\": the relevant snippet, verbatim, from the candidate's resume,\n",
    " \"commentary:\" : your commentary on the strength and why it's good for the job                                                                              \n",
    ")\n",
    "\\\"\\\"\\\"                                                                                    \n",
    "Job Description: {job_description}\n",
    "Relevant Skills and Experiences: {context}\n",
    "Answer:                                           \n",
    "\"\"\")"
   ]
  },
  {
   "cell_type": "code",
   "execution_count": 18,
   "metadata": {},
   "outputs": [],
   "source": [
    "rag_chain = (\n",
    "    {\"job_description\": RunnablePassthrough(), \"context\": retriever | format_docs}\n",
    "    | prompt\n",
    "    | llm\n",
    "    | StrOutputParser()\n",
    ")"
   ]
  },
  {
   "cell_type": "code",
   "execution_count": 19,
   "metadata": {},
   "outputs": [
    {
     "data": {
      "text/plain": [
       "'\"\"\"\\n(\\n \"strength\": \"Led four other interns as the project manager for an AI project, training a Hierarchical Naïve Bayes model using the pgmpy library in Python to solve an identity matching task.\",\\n \"commentary:\" : \"This demonstrates the candidate\\'s experience in leading a team and managing a project in the field of AI, which aligns with the job\\'s requirement for project management utilizing Agile/Scrum.\"\\n)\\n\\n(\\n \"strength\": \"Designed a Keras Convolutional Neural Network (CNN) model for footwear classification, achieving successful results in identifying shoes, sandals, and boots using a Kaggle Shoes dataset with a validation accuracy of 97%.\",\\n \"commentary:\" : \"This showcases the candidate\\'s experience in designing and implementing neural network models for classification tasks, which is relevant to the job\\'s requirement for experience in implementing large language models, neural networks, and self-supervised/semi-supervised learning models.\"\\n)\\n\\n(\\n \"strength\": \"Developed an Email Spam Classifier that filters spam with 98% accuracy and 75% recall using logistic regression.\",\\n \"commentary:\" : \"This highlights the candidate\\'s experience in developing a spam classifier with high accuracy and recall, demonstrating their skills in implementing predictive analytics in a complex data environment, which is a desired skill for the job.\"\\n)\\n\"\"\"'"
      ]
     },
     "execution_count": 19,
     "metadata": {},
     "output_type": "execute_result"
    }
   ],
   "source": [
    "rag_chain.invoke(job_description)"
   ]
  }
 ],
 "metadata": {
  "kernelspec": {
   "display_name": "Python 3",
   "language": "python",
   "name": "python3"
  },
  "language_info": {
   "codemirror_mode": {
    "name": "ipython",
    "version": 3
   },
   "file_extension": ".py",
   "mimetype": "text/x-python",
   "name": "python",
   "nbconvert_exporter": "python",
   "pygments_lexer": "ipython3",
   "version": "3.11.6"
  }
 },
 "nbformat": 4,
 "nbformat_minor": 2
}
